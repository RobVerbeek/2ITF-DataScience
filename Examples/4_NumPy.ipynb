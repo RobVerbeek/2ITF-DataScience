{
 "cells": [
  {
   "cell_type": "markdown",
   "metadata": {},
   "source": [
    "# NumPy\n",
    "\n",
    "NumPy is the most basic but powerful package for working with data in Python. At the core, NumPy provides the excellent ndarray objects, short for n-dimensional arrays.\n",
    "\n",
    "<img src=\"files/numpy.png\"  style=\"height: 200px\"/>\n",
    "\n",
    "But first install it."
   ]
  },
  {
   "cell_type": "code",
   "execution_count": null,
   "metadata": {},
   "outputs": [],
   "source": [
    "%pip install numpy"
   ]
  },
  {
   "cell_type": "markdown",
   "metadata": {},
   "source": [
    "## 1. Creating a NumPy array\n",
    "\n",
    "The most common way is to create an array from a list by passing it to the `np.array` function.\n",
    "You may also specify the datatype by setting the dtype argument: 'float', 'int', 'bool', 'str' and 'object'."
   ]
  },
  {
   "cell_type": "code",
   "execution_count": 1,
   "metadata": {},
   "outputs": [
    {
     "name": "stdout",
     "output_type": "stream",
     "text": [
      "<class 'numpy.ndarray'>\n",
      "[0 1 2 3 4]\n",
      "<class 'numpy.ndarray'>\n",
      "[[0. 1. 2.]\n",
      " [3. 4. 5.]\n",
      " [6. 7. 8.]]\n"
     ]
    }
   ],
   "source": [
    "# create an 1d array from a list\n",
    "import numpy as np\n",
    "\n",
    "list1 = [0, 1, 2, 3, 4]\n",
    "arr1d = np.array(list1)\n",
    "\n",
    "# print the array and its object type\n",
    "print(type(arr1d))\n",
    "print(arr1d)\n",
    "\n",
    "# create a 2d array from a list of lists\n",
    "list2 = [[0, 1, 2], [3, 4, 5], [6, 7, 8]]\n",
    "arr2d= np.array(list2, dtype='float')\n",
    "\n",
    "# print the array and its object type\n",
    "print(type(arr2d))\n",
    "print(arr2d)\n"
   ]
  },
  {
   "cell_type": "markdown",
   "metadata": {},
   "source": [
    "You can also create an array with intialized values using methods like ones(), zeros(), full() or random.random().  The shape of the desired array is passed as an argument."
   ]
  },
  {
   "cell_type": "code",
   "execution_count": null,
   "metadata": {},
   "outputs": [],
   "source": [
    "# create array with 2 rows and 3 columns - each entry is 1\n",
    "arr_ones = np.ones((2,3),dtype=int) \n",
    "print(arr_ones)\n",
    "\n",
    "# create array with 3 rows and 2 columns - each entry is 5\n",
    "arr_fives = np.full((3,2),5)\n",
    "print(arr_fives)\n",
    "\n",
    "# create array with 2 rows and 2 columns - each entry is a random value\n",
    "arr_randoms=np.random.random((2,2))\n",
    "print(arr_randoms)"
   ]
  },
  {
   "cell_type": "markdown",
   "metadata": {},
   "source": [
    "The arange() method is handy to create a sequence of numbers stored in a 1 dimensional array."
   ]
  },
  {
   "cell_type": "code",
   "execution_count": null,
   "metadata": {},
   "outputs": [],
   "source": [
    "# lower limit is 0 by default\n",
    "print(np.arange(5))    \n",
    "\n",
    "# 0 to 9\n",
    "print(np.arange(0, 10))  \n",
    "\n",
    "# 0 to 9 with step of 2\n",
    "print(np.arange(0, 10, 2))  \n",
    "\n",
    "# 10 to 1, decreasing order\n",
    "print(np.arange(10, 0, -1))"
   ]
  },
  {
   "cell_type": "markdown",
   "metadata": {},
   "source": [
    "## 2. Properties of a NumPy array\n",
    "Every array has some properties (ndim, shape, size, dtype, ...)"
   ]
  },
  {
   "cell_type": "code",
   "execution_count": null,
   "metadata": {},
   "outputs": [],
   "source": [
    "# create a 2d array with 3 rows and 5 columns initialized with random integers from 1 to 10\n",
    "arr = np.random.randint(1,11,(3,5))\n",
    "print(arr)\n",
    "\n",
    "# ndim\n",
    "print('Num Dimensions: ', arr.ndim)\n",
    "# shape\n",
    "print('Shape: ', arr.shape)\n",
    "# number of columns\n",
    "print('Number of columns:',arr.shape[1])\n",
    "# dtype\n",
    "print('Datatype: ', arr.dtype)\n",
    "# size\n",
    "print('Size: ', arr.size)\n",
    "\n"
   ]
  },
  {
   "cell_type": "markdown",
   "metadata": {},
   "source": [
    "## 3. Arithmetic operations"
   ]
  },
  {
   "cell_type": "markdown",
   "metadata": {},
   "source": [
    "What is the key difference between an array and a list? An array can contain elements of only 1 datatype while a list can contain many types. But most important is that arrays are designed to handle vectorized operations while a Python list is not. This means, if you apply an arithmetic operation (+,-,*,/) or a function it is performed __on every item in the array__, rather than on the whole array object.  This concept is called broadcasting."
   ]
  },
  {
   "cell_type": "code",
   "execution_count": null,
   "metadata": {},
   "outputs": [],
   "source": [
    "list1 = [[1,2,3],[3,4,5]]\n",
    "arr2d = np.array(list1)\n",
    "\n",
    "# list1 + 2  # error\n",
    "\n",
    "# add 2 to each element of arr1d\n",
    "arr2d = arr2d + 2\n",
    "# add array with initialized 1 values to arr2d\n",
    "arr2d = arr2d + np.ones((1,3), dtype=int)\n",
    "arr2d"
   ]
  },
  {
   "cell_type": "markdown",
   "metadata": {},
   "source": [
    "When you use the * symbol a position wise multiplaction is applied. The true matrix multiplication is performed with the dot() method.  "
   ]
  },
  {
   "cell_type": "code",
   "execution_count": null,
   "metadata": {},
   "outputs": [],
   "source": [
    "arr4 = np.full((1,3),4)\n",
    "arr5 = np.full((3,1),5)\n",
    "print(arr4)\n",
    "print(arr5)\n",
    "# position wise multiplication - broadcasting\n",
    "print(arr4*arr5)\n",
    "# matrix multiplication\n",
    "print(arr4.dot(arr5))"
   ]
  },
  {
   "cell_type": "markdown",
   "metadata": {},
   "source": [
    "## 4. Extracting specific items from an array\n",
    "\n",
    "You can extract specific portions of an array using slicing, index starting with 0. NumPy arrays can accept as many parameters in the square brackets as the number of dimensions."
   ]
  },
  {
   "cell_type": "code",
   "execution_count": null,
   "metadata": {},
   "outputs": [],
   "source": [
    "#create array\n",
    "arr = np.array( [[0, 1, 2], [3, 4, 5], [6, 7, 8]])\n",
    "print(arr)\n",
    "\n",
    "# extract the first 2 rows and columns\n",
    "arr[:2, :2]\n",
    "\n",
    "# list2[:2, :2]  # error"
   ]
  },
  {
   "cell_type": "markdown",
   "metadata": {},
   "source": [
    "## 5. Creating a new array from an existing array\n",
    "\n",
    "If you just assign a portion of an array to another array, the new array you just created actually __refers to the parent array__ in memory. That means, if you make any changes to the new array, it will reflect in the parent array as well.\n",
    "\n",
    "So to avoid disturbing the parent array, you need to make a copy of it using copy()."
   ]
  },
  {
   "cell_type": "code",
   "execution_count": null,
   "metadata": {},
   "outputs": [],
   "source": [
    "# Assign portion of arr to arr_bis. \n",
    "# Be aware that this doesn't really create a new array.\n",
    "arr_bis = arr[:2,:2]  \n",
    "arr_bis[0,0] = 100  # 100 will reflect in arr\n",
    "print(arr)\n",
    "\n",
    "# copy portion of arr2 to arr2b\n",
    "arr_bis= arr[:2, :2].copy()\n",
    "arr[0, 0] = 101  # 101 will not reflect in arr_bis\n",
    "print(arr_bis)\n"
   ]
  },
  {
   "cell_type": "markdown",
   "metadata": {},
   "source": [
    "Using the NumPy where() function, you can create a new array from the existing array based on conditions. The where() returns the indices of the existing array for which each condition is True. This result can be used to slice the original array. This kind of slicing is called boolean mask slicing. "
   ]
  },
  {
   "cell_type": "code",
   "execution_count": 32,
   "metadata": {},
   "outputs": [
    {
     "name": "stdout",
     "output_type": "stream",
     "text": [
      "indexes_to_keep: (array([3, 7], dtype=int64),)\n",
      "arr_filtered: [7 8]\n"
     ]
    }
   ],
   "source": [
    "# Create a numpy array\n",
    "arr = np.array([1, 4, 2, 7, 9, 3, 5, 8])\n",
    "\n",
    "# indexes of elements to keep\n",
    "# 1 condition\n",
    "# indexes_to_keep = np.where(arr > 5)\n",
    "# multiple conditions \n",
    "indexes_to_keep = np.where((arr > 5) & (arr < 9))\n",
    "print(\"indexes_to_keep:\",indexes_to_keep)\n",
    "\n",
    "# filter the array\n",
    "arr_filtered = arr[indexes_to_keep]\n",
    "\n",
    "# show the filtered array\n",
    "print(\"arr_filtered:\",arr_filtered)\n"
   ]
  },
  {
   "cell_type": "markdown",
   "metadata": {},
   "source": [
    "The where() function has 2 optional extra parameters x and y.   If condition holds true, the new array will choose elements from x.  Otherwise, if it’s false, elements from y will be taken.  \n",
    "With that, our final output array will be an array with elements from x wherever condition = True, and elements from y whenever condition = False.\n"
   ]
  },
  {
   "cell_type": "code",
   "execution_count": 38,
   "metadata": {},
   "outputs": [
    {
     "name": "stdout",
     "output_type": "stream",
     "text": [
      "arr: [1 4 2 7 9 3 5 8]\n",
      "arr_filtered: [0 0 0 7 9 0 0 8]\n"
     ]
    }
   ],
   "source": [
    "# Create a numpy array\n",
    "arr = np.array([1, 4, 2, 7, 9, 3, 5, 8])\n",
    "# filter the array\n",
    "arr_filtered = np.where(arr > 5, arr,0)\n",
    "# show the filtered array\n",
    "print(\"arr:\",arr)\n",
    "print(\"arr_filtered:\",arr_filtered)"
   ]
  },
  {
   "cell_type": "markdown",
   "metadata": {},
   "source": [
    "## 6. Reshaping and flattening multidimensional arrays"
   ]
  },
  {
   "cell_type": "markdown",
   "metadata": {},
   "source": [
    "Reshaping means changing the shape of an array. The shape of an array is the number of elements in each dimension. By reshaping we can add or remove dimensions or change number of elements in each dimension.  Also here the returned array is just a view on the original one.  No new array object is created in memory."
   ]
  },
  {
   "cell_type": "code",
   "execution_count": null,
   "metadata": {},
   "outputs": [],
   "source": [
    "# create a 2d array with 3 rows and 4 columns initialized with random integers from 1 to 10\n",
    "arr = np.random.randint(1,11,(3,4))\n",
    "print(arr)\n",
    "# reshape a 3x4 array to 4x3 array\n",
    "arr_reshaped = arr.reshape(4, 3)\n",
    "# every change in the reshaped array is reflected in the parent (base)\n",
    "arr_reshaped[0,0]=999\n",
    "print(arr_reshaped)\n",
    "print(arr)"
   ]
  },
  {
   "cell_type": "markdown",
   "metadata": {},
   "source": [
    "Flattening an array means converting a multidimensional array into a 1D array. You can use reshape(-1) to do this. However, there are 2 popular ways to implement flattening: the flatten() method and the ravel() method. The difference between ravel and flatten is: the new array created using ravel is just a reference to the parent array. "
   ]
  },
  {
   "cell_type": "code",
   "execution_count": null,
   "metadata": {},
   "outputs": [],
   "source": [
    "list = [[1, 2, 3, 4], [3, 4, 5, 6], [5, 6, 7, 8]]\n",
    "arr2 = np.array(list)\n",
    "\n",
    "# changing the flattened array does not change parent\n",
    "b1 = arr2.flatten()  \n",
    "print(b1)\n",
    "b1[0] = 100  # changing b1 does not affect arr2\n",
    "print(b1)\n",
    "print(arr2)\n",
    "\n",
    "# changing the raveled array changes the parent also.\n",
    "b2 = arr2.ravel()  \n",
    "b2[0] = 101  # changing b2 changes arr2 also\n",
    "print(b2)\n",
    "print(arr2)"
   ]
  },
  {
   "cell_type": "markdown",
   "metadata": {},
   "source": [
    "## 7. Aggregations\n",
    "\n",
    "Np provides methods to compute the most common summary statistics like mean, median, std (standard deviation), min and max.  Some aggregation methods (min/max/median/sum/...) can be called immediately from the array object itself.  You can make computations over the whole array or per axis. "
   ]
  },
  {
   "cell_type": "code",
   "execution_count": null,
   "metadata": {},
   "outputs": [],
   "source": [
    "#create array\n",
    "arr = np.array( [[1, 2, 3], [4, 5,6], [ 7, 8,9]])\n",
    "print(arr)\n",
    "\n",
    "# mean, median, max and min\n",
    "print(\"Mean value is: \", arr.mean())\n",
    "print(\"Median value is: \", np.median(arr))\n",
    "print(\"Standard deviation is: \", arr.std())\n",
    "print(\"Max value is: \", arr.max())\n",
    "print(\"Min value is: \", arr.min())\n",
    "\n",
    "# row wise and column wise min\n",
    "print(\"Min per column (i.e. over all rows): \", arr.min(axis=0))\n",
    "print(\"Min per row (i.e. over all columns) \", arr.min(axis=1))\n",
    "\n",
    "#sum\n",
    "print(\"Sum all items is: \", arr.sum())\n",
    "print(\"Sum all items per column (i.e. over all rows): \", arr.sum(axis=0))\n",
    "print(\"Sum all items per row (i.e. over all columns): \", arr.sum(axis=1))"
   ]
  },
  {
   "cell_type": "markdown",
   "metadata": {},
   "source": [
    "To gain insight in normally distributed data you can calculate some interesting percentiles and fractiles like the so called quartiles (25th, 50th, and 75th percentiles). When looking for outliers you can compute the 90th percentile of a dataset. P90 is the value that cuts of the bottom 90% of the data values from the top 10% of data values.  \n",
    "You can quickly calculate percentiles in Python by using the numpy.percentile() function"
   ]
  },
  {
   "cell_type": "code",
   "execution_count": null,
   "metadata": {},
   "outputs": [],
   "source": [
    "#array with hotel room prices\n",
    "prices = np.array([187.00,220.00,228.00,258.00,260.00,280.00,294.00,298.00,314.00,4860.00])\n",
    "\n",
    "#Find the quartiles (25th, 50th, and 75th percentiles) of the array\n",
    "print(np.percentile(prices, [25, 50, 75]))\n",
    "\n",
    "#find the 90th percentile of the array\n",
    "print('90% of the room prices are lower than',round(np.percentile(prices, 90),2), '$')"
   ]
  },
  {
   "cell_type": "markdown",
   "metadata": {},
   "source": [
    "## 8. Read csv file into NumPy array\n",
    "\n",
    "The NumPy loadtxt() function is used to load data from a text file without missing values. Each row in the text file must have same number of values.\n",
    "\n",
    "**Syntax**: `numpy.loadtxt(fname, delimiter, skiprows, ...)`\n",
    "\n",
    "In case the file has missing values the NumPy genfromtxt() function is used. During the loading process, you can decide how to handle missing values. \n",
    "\n",
    "**Syntax**: `numpy.loadtxt(fname, delimiter, filling_values, ...)`\n"
   ]
  }
 ],
 "metadata": {
  "kernelspec": {
   "display_name": "Python 3.10.2 ('venv': venv)",
   "language": "python",
   "name": "python3"
  },
  "language_info": {
   "codemirror_mode": {
    "name": "ipython",
    "version": 3
   },
   "file_extension": ".py",
   "mimetype": "text/x-python",
   "name": "python",
   "nbconvert_exporter": "python",
   "pygments_lexer": "ipython3",
   "version": "3.10.2"
  },
  "vscode": {
   "interpreter": {
    "hash": "e31c2e8d3ed3a4908bbc2c2b66173ad7e7558239e8d6f52669fbf04aeb9634e1"
   }
  }
 },
 "nbformat": 4,
 "nbformat_minor": 2
}
