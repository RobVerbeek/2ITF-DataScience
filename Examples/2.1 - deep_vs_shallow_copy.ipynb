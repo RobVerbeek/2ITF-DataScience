{
 "cells": [
  {
   "cell_type": "markdown",
   "metadata": {},
   "source": [
    "# Deep vs shallow copy\n",
    "\n",
    "Copying a list in Python doesn't always work the way you expect it to. A quick overview!"
   ]
  },
  {
   "cell_type": "code",
   "execution_count": 1,
   "metadata": {},
   "outputs": [
    {
     "name": "stdout",
     "output_type": "stream",
     "text": [
      "5 6\n"
     ]
    }
   ],
   "source": [
    "a = 5\n",
    "\n",
    "def add_one(x):\n",
    "    x += 1\n",
    "    return x\n",
    "\n",
    "b = add_one(a)\n",
    "\n",
    "print(a, b)"
   ]
  },
  {
   "cell_type": "markdown",
   "metadata": {},
   "source": [
    "Works completely as expected. We send a as a parameter to the function, the function changes it and returns the changed value, but the original stays the same."
   ]
  },
  {
   "cell_type": "code",
   "execution_count": 4,
   "metadata": {},
   "outputs": [
    {
     "name": "stdout",
     "output_type": "stream",
     "text": [
      "[2, 3, 4] [2, 3, 4]\n"
     ]
    }
   ],
   "source": [
    "c = [1, 2, 3]\n",
    "\n",
    "def add_one_list(x):\n",
    "    for i in range(len(x)):\n",
    "        x[i] += 1\n",
    "    return x\n",
    "\n",
    "d = add_one_list(c)\n",
    "\n",
    "print(c, d)"
   ]
  },
  {
   "cell_type": "markdown",
   "metadata": {},
   "source": [
    "Disturbing, no? X is not a copy of C, it's a reference to it. Everything we change in X is also changed in C.\n",
    "\n",
    "How can we fix this?"
   ]
  },
  {
   "cell_type": "code",
   "execution_count": 7,
   "metadata": {},
   "outputs": [
    {
     "name": "stdout",
     "output_type": "stream",
     "text": [
      "[1, 2, 3] [2, 3, 4]\n"
     ]
    }
   ],
   "source": [
    "c = [1, 2, 3]\n",
    "\n",
    "def add_one_list(x):\n",
    "    for i in range(len(x)):\n",
    "        x[i] += 1\n",
    "    return x\n",
    "\n",
    "d = add_one_list(c.copy())\n",
    "\n",
    "print(c, d)"
   ]
  },
  {
   "cell_type": "markdown",
   "metadata": {},
   "source": [
    "By not sending C, but a copy of C. This way the copy of C is overwritten, but not C.\n",
    "\n",
    "This is also a great trick if you want to go over a list and delete certain items from it. Deleting items changes the indexes, so using \"range(len(..))\" won't work. Simply looping over the list is tricky as you are changing the list that is referenced by the loop you are in. This means not everything is getting deleted. Looping over a copy works perfectly!\n",
    "\n",
    "In the example we create a list of random numbers and delete all even numbers."
   ]
  },
  {
   "cell_type": "code",
   "execution_count": 16,
   "metadata": {},
   "outputs": [
    {
     "name": "stdout",
     "output_type": "stream",
     "text": [
      "[9, 0, 6, 3, 4]\n",
      "[9, 3]\n"
     ]
    }
   ],
   "source": [
    "import random\n",
    "\n",
    "random.seed(10) # always generate the same numbers\n",
    "random_numbers = random.sample(range(0, 10), 5)\n",
    "\n",
    "print(random_numbers)\n",
    "\n",
    "# for i in range(len(random_numbers)):\n",
    "#     if random_numbers[i] % 2 == 0:\n",
    "#         del random_numbers[i]\n",
    "\n",
    "# print(random_numbers) # -> index error, you're deleting items that are not there\n",
    "\n",
    "# for item in random_numbers:\n",
    "#     if item % 2 == 0:\n",
    "#         random_numbers.remove(item)\n",
    "\n",
    "# print(random_numbers) # -> what is 6 still doing in this list?\n",
    "\n",
    "for item in random_numbers.copy():\n",
    "    if item % 2 == 0:\n",
    "        random_numbers.remove(item)\n",
    "\n",
    "print(random_numbers)"
   ]
  },
  {
   "cell_type": "markdown",
   "metadata": {},
   "source": [
    "An afterthought: What if we rewrote the function to use a list comprehension?"
   ]
  },
  {
   "cell_type": "code",
   "execution_count": 6,
   "metadata": {},
   "outputs": [
    {
     "name": "stdout",
     "output_type": "stream",
     "text": [
      "[1, 2, 3] [2, 3, 4]\n"
     ]
    }
   ],
   "source": [
    "e = [1, 2, 3]\n",
    "\n",
    "def add_one_list(x):\n",
    "    x = [ i+1 for i in x]\n",
    "    return x\n",
    "\n",
    "f = add_one_list(e)\n",
    "\n",
    "print(e, f)"
   ]
  },
  {
   "cell_type": "markdown",
   "metadata": {},
   "source": [
    "A list comprehension creates a new list (based on the old list). (A reference to) this list is in turn saved to X, overwriting the reference to C (but not C). So now there's no problem."
   ]
  }
 ],
 "metadata": {
  "kernelspec": {
   "display_name": "Python 3.10.2 ('venv': venv)",
   "language": "python",
   "name": "python3"
  },
  "language_info": {
   "codemirror_mode": {
    "name": "ipython",
    "version": 3
   },
   "file_extension": ".py",
   "mimetype": "text/x-python",
   "name": "python",
   "nbconvert_exporter": "python",
   "pygments_lexer": "ipython3",
   "version": "3.10.2"
  },
  "orig_nbformat": 4,
  "vscode": {
   "interpreter": {
    "hash": "e31c2e8d3ed3a4908bbc2c2b66173ad7e7558239e8d6f52669fbf04aeb9634e1"
   }
  }
 },
 "nbformat": 4,
 "nbformat_minor": 2
}
