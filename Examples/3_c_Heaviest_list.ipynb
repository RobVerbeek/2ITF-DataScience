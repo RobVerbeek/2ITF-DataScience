{
 "cells": [
  {
   "cell_type": "markdown",
   "metadata": {},
   "source": [
    "# The heaviest list\n",
    "\n",
    "[The heaviest list](https://stubru.be/stem/dezwaarstelijst/lijst) is a yearly list played in the easter weekend on Studio Brussels. It's a list of the best heavy metal records.\n",
    "\n",
    "![](images/2022-03-23-17-48-05.png)\n",
    "\n",
    "The plan is to get this list as a list in Python, meaning we can iterate over it, or compare it to other heavy metal list to see which heavy metal music is the best overall heavy metal music. But there is a problem why we can't do this in the same way we did the minifigs:\n",
    "\n",
    "![](images/2022-03-23-17-50-49.png)\n",
    "\n",
    "The actual list is generated using javascript after the page has loaded. This means that if we simply scrape the page using beautifulsoup we don't get the actual list, only the general page setup of the page. To get an actual list we'll need our Python code to mimick, or interact with, a webbrowser. In this example we'll be using Firefox, but chromium would work as well. We also need selenium to have Python interact with the browser. And beautifulsoup and requests are also still needed."
   ]
  },
  {
   "cell_type": "code",
   "execution_count": 1,
   "metadata": {},
   "outputs": [],
   "source": [
    "! pip install requests\n",
    "! pip install BeautifulSoup4\n",
    "! pip install selenium"
   ]
  },
  {
   "cell_type": "code",
   "execution_count": 1,
   "metadata": {},
   "outputs": [],
   "source": [
    "import requests\n",
    "from bs4 import BeautifulSoup"
   ]
  },
  {
   "cell_type": "markdown",
   "metadata": {},
   "source": [
    "There may just be a very small chance we are wrong, and we can simply scrape the list using beautifulsoup. Let's try. We want these parts of the list:\n",
    "\n",
    "![](images/2022-03-23-18-19-43.png)\n",
    "\n",
    "We need the div's with class code \"css-901oao\". (It contains the name of the band.)"
   ]
  },
  {
   "cell_type": "code",
   "execution_count": 2,
   "metadata": {},
   "outputs": [
    {
     "name": "stdout",
     "output_type": "stream",
     "text": [
      "Nothing\n"
     ]
    }
   ],
   "source": [
    "URL = \"https://stubru.be/stem/dezwaarstelijst/lijst\"\n",
    "page = requests.get(URL)\n",
    "\n",
    "soup = BeautifulSoup(page.content, \"html.parser\")\n",
    "\n",
    "results = soup.find(\"div\", {\"class\": \"css-901oao\"})\n",
    "if not results:\n",
    "    print(\"Nothing\")\n",
    "else:\n",
    "    print(results.prettify())"
   ]
  },
  {
   "cell_type": "markdown",
   "metadata": {},
   "source": [
    "No luck. So we'll need to use a browser from our python script. To do this, we'll be using a webdriver. There is one for every major browser:\n",
    "\n",
    "| Browser | Driver |\n",
    "|--- | --- |\n",
    "| Firefox | [geckodriver](https://github.com/mozilla/geckodriver/releases) | \n",
    "| Chrome | [ChromeDriver](https://chromedriver.chromium.org/downloads) |\n",
    "| Edge | [MS Edge WebDriver](https://developer.microsoft.com/en-us/microsoft-edge/tools/webdriver/) |\n",
    "| Opera | [Opera Chromium Driver](https://github.com/operasoftware/operachromiumdriver) |\n",
    "| Safari | [Safari driver](https://developer.apple.com/documentation/webkit/testing_with_webdriver_in_safari) |\n",
    "\n",
    "You can choose which one you'll use. The rest of this example uses Firefox and the geckodriver. To install simply download and extract the executable. Then you have three options:\n",
    "\n",
    "1) place the executable in a place that is in your path\n",
    "2) create a service in Python to refer to the executable\n",
    "\n",
    "'Installing' may be the wrong word here: you download an executable and have to make sure the program can find that executable. There are three options:\n",
    "\n",
    "1) place it in a known location and reference it from your Python program (we'll be doing this one)\n",
    "2) place it in a location already in the path (like c:\\windows\\system32)\n",
    "3) add the location of the driver to the path\n",
    "\n",
    "We'll go for option 1 since you shouldn't mess with system folders or the path unless you absolutely have to. Therefore:\n",
    "\n",
    "1) download the latest version of the the webdriver\n",
    "2) unpack it\n",
    "3) place the entire folder in \"c:\\tmp\""
   ]
  },
  {
   "cell_type": "code",
   "execution_count": 4,
   "metadata": {},
   "outputs": [
    {
     "ename": "SessionNotCreatedException",
     "evalue": "Message: Expected browser binary location, but unable to find binary in default location, no 'moz:firefoxOptions.binary' capability provided, and no binary flag set on the command line\n",
     "output_type": "error",
     "traceback": [
      "\u001b[1;31m---------------------------------------------------------------------------\u001b[0m",
      "\u001b[1;31mSessionNotCreatedException\u001b[0m                Traceback (most recent call last)",
      "\u001b[1;32mc:\\Users\\Jochen\\OneDrive - Thomas More\\_Vakken\\Data Science\\Datascience2022\\3 Regex & Scraping\\Notebooks\\3_c_Heaviest_list.ipynb Cell 7\u001b[0m in \u001b[0;36m<cell line: 14>\u001b[1;34m()\u001b[0m\n\u001b[0;32m      <a href='vscode-notebook-cell:/c%3A/Users/Jochen/OneDrive%20-%20Thomas%20More/_Vakken/Data%20Science/Datascience2022/3%20Regex%20%26%20Scraping/Notebooks/3_c_Heaviest_list.ipynb#W6sZmlsZQ%3D%3D?line=8'>9</a>\u001b[0m \u001b[39m# specify the url\u001b[39;00m\n\u001b[0;32m     <a href='vscode-notebook-cell:/c%3A/Users/Jochen/OneDrive%20-%20Thomas%20More/_Vakken/Data%20Science/Datascience2022/3%20Regex%20%26%20Scraping/Notebooks/3_c_Heaviest_list.ipynb#W6sZmlsZQ%3D%3D?line=9'>10</a>\u001b[0m \u001b[39m# URL = \"https://stubru.be/stem/dezwaarstelijst/lijst\" -> done, see before\u001b[39;00m\n\u001b[0;32m     <a href='vscode-notebook-cell:/c%3A/Users/Jochen/OneDrive%20-%20Thomas%20More/_Vakken/Data%20Science/Datascience2022/3%20Regex%20%26%20Scraping/Notebooks/3_c_Heaviest_list.ipynb#W6sZmlsZQ%3D%3D?line=10'>11</a>\u001b[0m \n\u001b[0;32m     <a href='vscode-notebook-cell:/c%3A/Users/Jochen/OneDrive%20-%20Thomas%20More/_Vakken/Data%20Science/Datascience2022/3%20Regex%20%26%20Scraping/Notebooks/3_c_Heaviest_list.ipynb#W6sZmlsZQ%3D%3D?line=11'>12</a>\u001b[0m \u001b[39m# run firefox webdriver from executable path of your choice\u001b[39;00m\n\u001b[0;32m     <a href='vscode-notebook-cell:/c%3A/Users/Jochen/OneDrive%20-%20Thomas%20More/_Vakken/Data%20Science/Datascience2022/3%20Regex%20%26%20Scraping/Notebooks/3_c_Heaviest_list.ipynb#W6sZmlsZQ%3D%3D?line=12'>13</a>\u001b[0m ser \u001b[39m=\u001b[39m Service(\u001b[39m'\u001b[39m\u001b[39mC:/tmp/geckodriver-v0.32.0-win32/geckodriver.exe\u001b[39m\u001b[39m'\u001b[39m)\n\u001b[1;32m---> <a href='vscode-notebook-cell:/c%3A/Users/Jochen/OneDrive%20-%20Thomas%20More/_Vakken/Data%20Science/Datascience2022/3%20Regex%20%26%20Scraping/Notebooks/3_c_Heaviest_list.ipynb#W6sZmlsZQ%3D%3D?line=13'>14</a>\u001b[0m driver \u001b[39m=\u001b[39m webdriver\u001b[39m.\u001b[39;49mFirefox(service\u001b[39m=\u001b[39;49mser)\n\u001b[0;32m     <a href='vscode-notebook-cell:/c%3A/Users/Jochen/OneDrive%20-%20Thomas%20More/_Vakken/Data%20Science/Datascience2022/3%20Regex%20%26%20Scraping/Notebooks/3_c_Heaviest_list.ipynb#W6sZmlsZQ%3D%3D?line=14'>15</a>\u001b[0m \u001b[39m# driver = webdriver.Edge()\u001b[39;00m\n\u001b[0;32m     <a href='vscode-notebook-cell:/c%3A/Users/Jochen/OneDrive%20-%20Thomas%20More/_Vakken/Data%20Science/Datascience2022/3%20Regex%20%26%20Scraping/Notebooks/3_c_Heaviest_list.ipynb#W6sZmlsZQ%3D%3D?line=15'>16</a>\u001b[0m \n\u001b[0;32m     <a href='vscode-notebook-cell:/c%3A/Users/Jochen/OneDrive%20-%20Thomas%20More/_Vakken/Data%20Science/Datascience2022/3%20Regex%20%26%20Scraping/Notebooks/3_c_Heaviest_list.ipynb#W6sZmlsZQ%3D%3D?line=16'>17</a>\u001b[0m \u001b[39m# get web page\u001b[39;00m\n\u001b[0;32m     <a href='vscode-notebook-cell:/c%3A/Users/Jochen/OneDrive%20-%20Thomas%20More/_Vakken/Data%20Science/Datascience2022/3%20Regex%20%26%20Scraping/Notebooks/3_c_Heaviest_list.ipynb#W6sZmlsZQ%3D%3D?line=17'>18</a>\u001b[0m driver\u001b[39m.\u001b[39mget(URL)\n",
      "File \u001b[1;32mc:\\Users\\Jochen\\OneDrive - Thomas More\\_Vakken\\Data Science\\Datascience2022\\venv\\lib\\site-packages\\selenium\\webdriver\\firefox\\webdriver.py:177\u001b[0m, in \u001b[0;36mWebDriver.__init__\u001b[1;34m(self, firefox_profile, firefox_binary, capabilities, proxy, executable_path, options, service_log_path, service_args, service, desired_capabilities, log_path, keep_alive)\u001b[0m\n\u001b[0;32m    172\u001b[0m \u001b[39mself\u001b[39m\u001b[39m.\u001b[39mservice\u001b[39m.\u001b[39mstart()\n\u001b[0;32m    174\u001b[0m executor \u001b[39m=\u001b[39m FirefoxRemoteConnection(\n\u001b[0;32m    175\u001b[0m     remote_server_addr\u001b[39m=\u001b[39m\u001b[39mself\u001b[39m\u001b[39m.\u001b[39mservice\u001b[39m.\u001b[39mservice_url,\n\u001b[0;32m    176\u001b[0m     ignore_proxy\u001b[39m=\u001b[39moptions\u001b[39m.\u001b[39m_ignore_local_proxy)\n\u001b[1;32m--> 177\u001b[0m \u001b[39msuper\u001b[39;49m()\u001b[39m.\u001b[39;49m\u001b[39m__init__\u001b[39;49m(\n\u001b[0;32m    178\u001b[0m     command_executor\u001b[39m=\u001b[39;49mexecutor,\n\u001b[0;32m    179\u001b[0m     options\u001b[39m=\u001b[39;49moptions,\n\u001b[0;32m    180\u001b[0m     keep_alive\u001b[39m=\u001b[39;49m\u001b[39mTrue\u001b[39;49;00m)\n\u001b[0;32m    182\u001b[0m \u001b[39mself\u001b[39m\u001b[39m.\u001b[39m_is_remote \u001b[39m=\u001b[39m \u001b[39mFalse\u001b[39;00m\n",
      "File \u001b[1;32mc:\\Users\\Jochen\\OneDrive - Thomas More\\_Vakken\\Data Science\\Datascience2022\\venv\\lib\\site-packages\\selenium\\webdriver\\remote\\webdriver.py:272\u001b[0m, in \u001b[0;36mWebDriver.__init__\u001b[1;34m(self, command_executor, desired_capabilities, browser_profile, proxy, keep_alive, file_detector, options)\u001b[0m\n\u001b[0;32m    270\u001b[0m \u001b[39mself\u001b[39m\u001b[39m.\u001b[39m_authenticator_id \u001b[39m=\u001b[39m \u001b[39mNone\u001b[39;00m\n\u001b[0;32m    271\u001b[0m \u001b[39mself\u001b[39m\u001b[39m.\u001b[39mstart_client()\n\u001b[1;32m--> 272\u001b[0m \u001b[39mself\u001b[39;49m\u001b[39m.\u001b[39;49mstart_session(capabilities, browser_profile)\n",
      "File \u001b[1;32mc:\\Users\\Jochen\\OneDrive - Thomas More\\_Vakken\\Data Science\\Datascience2022\\venv\\lib\\site-packages\\selenium\\webdriver\\remote\\webdriver.py:364\u001b[0m, in \u001b[0;36mWebDriver.start_session\u001b[1;34m(self, capabilities, browser_profile)\u001b[0m\n\u001b[0;32m    362\u001b[0m w3c_caps \u001b[39m=\u001b[39m _make_w3c_caps(capabilities)\n\u001b[0;32m    363\u001b[0m parameters \u001b[39m=\u001b[39m {\u001b[39m\"\u001b[39m\u001b[39mcapabilities\u001b[39m\u001b[39m\"\u001b[39m: w3c_caps}\n\u001b[1;32m--> 364\u001b[0m response \u001b[39m=\u001b[39m \u001b[39mself\u001b[39;49m\u001b[39m.\u001b[39;49mexecute(Command\u001b[39m.\u001b[39;49mNEW_SESSION, parameters)\n\u001b[0;32m    365\u001b[0m \u001b[39mif\u001b[39;00m \u001b[39m'\u001b[39m\u001b[39msessionId\u001b[39m\u001b[39m'\u001b[39m \u001b[39mnot\u001b[39;00m \u001b[39min\u001b[39;00m response:\n\u001b[0;32m    366\u001b[0m     response \u001b[39m=\u001b[39m response[\u001b[39m'\u001b[39m\u001b[39mvalue\u001b[39m\u001b[39m'\u001b[39m]\n",
      "File \u001b[1;32mc:\\Users\\Jochen\\OneDrive - Thomas More\\_Vakken\\Data Science\\Datascience2022\\venv\\lib\\site-packages\\selenium\\webdriver\\remote\\webdriver.py:429\u001b[0m, in \u001b[0;36mWebDriver.execute\u001b[1;34m(self, driver_command, params)\u001b[0m\n\u001b[0;32m    427\u001b[0m response \u001b[39m=\u001b[39m \u001b[39mself\u001b[39m\u001b[39m.\u001b[39mcommand_executor\u001b[39m.\u001b[39mexecute(driver_command, params)\n\u001b[0;32m    428\u001b[0m \u001b[39mif\u001b[39;00m response:\n\u001b[1;32m--> 429\u001b[0m     \u001b[39mself\u001b[39;49m\u001b[39m.\u001b[39;49merror_handler\u001b[39m.\u001b[39;49mcheck_response(response)\n\u001b[0;32m    430\u001b[0m     response[\u001b[39m'\u001b[39m\u001b[39mvalue\u001b[39m\u001b[39m'\u001b[39m] \u001b[39m=\u001b[39m \u001b[39mself\u001b[39m\u001b[39m.\u001b[39m_unwrap_value(\n\u001b[0;32m    431\u001b[0m         response\u001b[39m.\u001b[39mget(\u001b[39m'\u001b[39m\u001b[39mvalue\u001b[39m\u001b[39m'\u001b[39m, \u001b[39mNone\u001b[39;00m))\n\u001b[0;32m    432\u001b[0m     \u001b[39mreturn\u001b[39;00m response\n",
      "File \u001b[1;32mc:\\Users\\Jochen\\OneDrive - Thomas More\\_Vakken\\Data Science\\Datascience2022\\venv\\lib\\site-packages\\selenium\\webdriver\\remote\\errorhandler.py:243\u001b[0m, in \u001b[0;36mErrorHandler.check_response\u001b[1;34m(self, response)\u001b[0m\n\u001b[0;32m    241\u001b[0m         alert_text \u001b[39m=\u001b[39m value[\u001b[39m'\u001b[39m\u001b[39malert\u001b[39m\u001b[39m'\u001b[39m]\u001b[39m.\u001b[39mget(\u001b[39m'\u001b[39m\u001b[39mtext\u001b[39m\u001b[39m'\u001b[39m)\n\u001b[0;32m    242\u001b[0m     \u001b[39mraise\u001b[39;00m exception_class(message, screen, stacktrace, alert_text)  \u001b[39m# type: ignore[call-arg]  # mypy is not smart enough here\u001b[39;00m\n\u001b[1;32m--> 243\u001b[0m \u001b[39mraise\u001b[39;00m exception_class(message, screen, stacktrace)\n",
      "\u001b[1;31mSessionNotCreatedException\u001b[0m: Message: Expected browser binary location, but unable to find binary in default location, no 'moz:firefoxOptions.binary' capability provided, and no binary flag set on the command line\n"
     ]
    }
   ],
   "source": [
    "# import urllib.request -> done, see before\n",
    "# from bs4 import BeautifulSoup -> done, see before\n",
    "from selenium import webdriver\n",
    "from selenium.webdriver.common.by import By\n",
    "# Change the following line if using another browser\n",
    "from selenium.webdriver.firefox.service import Service\n",
    "import time\n",
    "\n",
    "# specify the url\n",
    "# URL = \"https://stubru.be/stem/dezwaarstelijst/lijst\" -> done, see before\n",
    "\n",
    "# run firefox webdriver from executable path of your choice\n",
    "ser = Service('C:/tmp/geckodriver-v0.30.0-win64/geckodriver.exe')\n",
    "driver = webdriver.Firefox(service=ser)\n",
    "# driver = webdriver.Edge()\n",
    "\n",
    "# get web page\n",
    "driver.get(URL)\n",
    "# sleep for 3s\n",
    "time.sleep(3)\n",
    "# driver.quit()"
   ]
  },
  {
   "cell_type": "markdown",
   "metadata": {},
   "source": [
    "As you notice the page loads. And you notice this because the browsers stays open. Which is purely as an example by the way, you can uncomment the last line (driver.quit()) to not keep the window open.\n",
    "\n",
    "Next up is trying to find the bandnames again. We're reusing the previous code here, but changing it to use the new webdriver."
   ]
  },
  {
   "cell_type": "code",
   "execution_count": 10,
   "metadata": {},
   "outputs": [
    {
     "name": "stdout",
     "output_type": "stream",
     "text": [
      "506\n",
      "De Zwaarste Lijst\n",
      "De 666 zwaarste gitaarplaten, door jou gekozen.\n",
      "#\n",
      "Nummer\n",
      "Vorige positie\n",
      "Aantal keer\n",
      "1\n",
      "Metallica\n",
      "Master Of Puppets\n",
      "1\n",
      "7\n",
      "2\n",
      "Tool\n",
      "Schism\n",
      "3\n",
      "7\n",
      "3\n",
      "Brutus\n",
      "All Along\n",
      "8\n"
     ]
    }
   ],
   "source": [
    "results = driver.find_elements(by=By.CLASS_NAME, value=\"css-901oao\")\n",
    "if not results:\n",
    "    print(\"Nothing\")\n",
    "else:\n",
    "    print(len(results))\n",
    "    for t in results[0:20]:\n",
    "        print(t.text)"
   ]
  },
  {
   "cell_type": "markdown",
   "metadata": {},
   "source": [
    "Great, but not quite there. Or we are: you could cycle through this list and sort it into a correct dataframe. But there is another way: by using the x_path you can let the webdriver home in on the element much better.\n",
    "\n",
    "First, copy the x_path for the first element using chrome inspect.\n",
    "\n",
    "![](images/2022-03-23-18-57-03.png)"
   ]
  },
  {
   "cell_type": "code",
   "execution_count": 11,
   "metadata": {},
   "outputs": [
    {
     "name": "stdout",
     "output_type": "stream",
     "text": [
      "1\n",
      "Metallica\n",
      "Master Of Puppets\n"
     ]
    }
   ],
   "source": [
    "xpath = r'//*[@id=\"hoofdinhoud\"]/div/main/div/div/div[3]/div[1]/table/tbody/tr[1]/td[3]/div'\n",
    "\n",
    "results = driver.find_elements(by=By.XPATH, value=xpath)\n",
    "\n",
    "if not results:\n",
    "    print(\"Nothing\")\n",
    "else:\n",
    "    print(len(results))\n",
    "    for t in results[0:20]:\n",
    "        print(t.text)"
   ]
  },
  {
   "cell_type": "markdown",
   "metadata": {},
   "source": [
    "Good, but only one. How to get all items in the list?"
   ]
  },
  {
   "cell_type": "code",
   "execution_count": 12,
   "metadata": {},
   "outputs": [
    {
     "name": "stdout",
     "output_type": "stream",
     "text": [
      "1 Metallica\n",
      "Master Of Puppets\n",
      "2 Tool\n",
      "Schism\n",
      "3 Brutus\n",
      "All Along\n",
      "4 Slayer\n",
      "Raining blood\n",
      "5 Amenra\n",
      "A Solitary Reign\n",
      "6 Iron Maiden\n",
      "Fear Of The Dark\n",
      "7 Rammstein\n",
      "DEUTSCHLAND\n",
      "8 Steak Number Eight\n",
      "The Sea is Dying\n",
      "9 Channel Zero\n",
      "Black Fuel\n",
      "10 Slipknot\n",
      "Duality\n"
     ]
    }
   ],
   "source": [
    "first_xpath  = r'//*[@id=\"hoofdinhoud\"]/div/main/div/div/div[3]/div[1]/table/tbody/tr[1]/td[3]/div'\n",
    "second_xpath = r'//*[@id=\"hoofdinhoud\"]/div/main/div/div/div[3]/div[1]/table/tbody/tr[2]/td[3]/div'\n",
    "last_xpath   = r'//*[@id=\"hoofdinhoud\"]/div/main/div/div/div[3]/div[1]/table/tbody/tr[100]/td[3]/div'\n",
    "\n",
    "# notice the pattern?\n",
    "\n",
    "final_list = []\n",
    "\n",
    "for i in range(1,101):\n",
    "    xpath = r'//*[@id=\"hoofdinhoud\"]/div/main/div/div/div[3]/div[1]/table/tbody/tr[' + str(i) + r']/td[3]/div'\n",
    "    result = driver.find_element(by=By.XPATH, value=xpath)\n",
    "\n",
    "    if not result:\n",
    "        print(\"Nothing\")\n",
    "    else:\n",
    "        final_list.append(result)\n",
    "\n",
    "for i, t in enumerate(final_list[0:10],start=1):\n",
    "    print(i, t.text)"
   ]
  },
  {
   "cell_type": "markdown",
   "metadata": {},
   "source": [
    "Good enough! Well, not really, but the rest is up to you. (See the exercises.)\n",
    "\n",
    "Only thing left to do now is quit the driver."
   ]
  },
  {
   "cell_type": "code",
   "execution_count": 13,
   "metadata": {},
   "outputs": [],
   "source": [
    "driver.quit()"
   ]
  }
 ],
 "metadata": {
  "kernelspec": {
   "display_name": "Python 3.10.2 ('venv': venv)",
   "language": "python",
   "name": "python3"
  },
  "language_info": {
   "codemirror_mode": {
    "name": "ipython",
    "version": 3
   },
   "file_extension": ".py",
   "mimetype": "text/x-python",
   "name": "python",
   "nbconvert_exporter": "python",
   "pygments_lexer": "ipython3",
   "version": "3.10.2"
  },
  "orig_nbformat": 4,
  "vscode": {
   "interpreter": {
    "hash": "e31c2e8d3ed3a4908bbc2c2b66173ad7e7558239e8d6f52669fbf04aeb9634e1"
   }
  }
 },
 "nbformat": 4,
 "nbformat_minor": 2
}
